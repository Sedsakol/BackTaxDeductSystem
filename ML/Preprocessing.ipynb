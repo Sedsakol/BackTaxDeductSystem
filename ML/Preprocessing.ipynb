{
 "cells": [
  {
   "cell_type": "code",
   "execution_count": null,
   "metadata": {},
   "outputs": [],
   "source": [
    "import pandas as pd\n",
    "\n",
    "df = pd.read_csv (r'./dataset.csv')\n",
    "df"
   ]
  },
  {
   "cell_type": "code",
   "execution_count": null,
   "metadata": {},
   "outputs": [],
   "source": [
    "import json\n",
    "temp_list = []\n",
    "for i in df['risk_question']:\n",
    "    x = json.loads(i)\n",
    "    temp_list.append(x)\n",
    "temp_list \n",
    "df['risk_question'] = temp_list \n",
    "\n",
    "for i in range(1,11):\n",
    "    df[f'risk_question_{i}'] = df['risk_question'].apply(lambda x:x[i-1])\n",
    "\n",
    "for i in range(1,5):\n",
    "    temp_list = []\n",
    "    for j in df['risk_question_4']:\n",
    "        if i in j:\n",
    "            temp_list.append(1)\n",
    "        else:\n",
    "            temp_list.append(0)\n",
    "    df[f'risk_question_4_{i}'] = temp_list\n",
    "    \n",
    "df['gender'] = df['gender'] - 1\n",
    "df['marriage'] = df['marriage'] - 1\n",
    "\n",
    "for i in range(1,11):\n",
    "    if i != 4:\n",
    "        temp_list_1 = []\n",
    "        temp_list_2 = []\n",
    "        temp_list_3 = []\n",
    "        temp_list_4 = []\n",
    "        for j in df[f'risk_question_{i}']:\n",
    "            if j == 1:\n",
    "                temp_list_1.append(1)\n",
    "                temp_list_2.append(0)\n",
    "                temp_list_3.append(0)\n",
    "                temp_list_4.append(0)\n",
    "            elif j == 2:\n",
    "                temp_list_1.append(0)\n",
    "                temp_list_2.append(1)\n",
    "                temp_list_3.append(0)\n",
    "                temp_list_4.append(0)\n",
    "            elif j == 3:\n",
    "                temp_list_1.append(0)\n",
    "                temp_list_2.append(0)\n",
    "                temp_list_3.append(1)\n",
    "                temp_list_4.append(0)\n",
    "            elif j == 4:\n",
    "                temp_list_1.append(0)\n",
    "                temp_list_2.append(0)\n",
    "                temp_list_3.append(0)\n",
    "                temp_list_4.append(1)\n",
    "        df[f'risk_question_{i}_1'] = temp_list_1\n",
    "        df[f'risk_question_{i}_2'] = temp_list_2\n",
    "        df[f'risk_question_{i}_3'] = temp_list_3\n",
    "        df[f'risk_question_{i}_4'] = temp_list_4\n",
    "\n",
    "df"
   ]
  },
  {
   "cell_type": "code",
   "execution_count": null,
   "metadata": {},
   "outputs": [],
   "source": [
    "drop_list = ['id', 'created', 'facebook_id', 'risk_question','categories_data','categories_version','infirm']\n",
    "for i in range(1,11):\n",
    "    drop_list.append(f'risk_question_{i}')\n",
    "df_0 = df.drop(drop_list, axis=1, inplace=False)\n",
    "df_0 = df_0.drop_duplicates()\n",
    "df_0.to_csv('categories_version_0.csv')\n",
    "df_0"
   ]
  },
  {
   "cell_type": "code",
   "execution_count": null,
   "metadata": {},
   "outputs": [],
   "source": []
  },
  {
   "cell_type": "code",
   "execution_count": null,
   "metadata": {},
   "outputs": [],
   "source": [
    "temp_list = []\n",
    "for i in df['categories_data']:\n",
    "    x = json.loads(i.replace(\"'\", '\"')) \n",
    "    temp_list.append(x)\n",
    "df['categories_data'] = temp_list\n",
    "\n",
    "key_list = []\n",
    "for key in df['categories_data'][0].keys():\n",
    "    key_list.append(key)\n",
    "print(key_list)\n",
    "\n",
    "for key in key_list:\n",
    "    df[key] = df['categories_data'].apply(lambda x:x.get(key))\n",
    "df"
   ]
  },
  {
   "cell_type": "code",
   "execution_count": null,
   "metadata": {},
   "outputs": [],
   "source": [
    "drop_list = ['id', 'created', 'facebook_id', 'risk_question','categories_data','infirm']\n",
    "for i in range(1,11):\n",
    "    drop_list.append(f'risk_question_{i}')\n",
    "df.drop(drop_list, axis=1, inplace=True)\n",
    "df.to_csv('pre_process_format.csv')\n",
    "df"
   ]
  },
  {
   "cell_type": "code",
   "execution_count": null,
   "metadata": {},
   "outputs": [],
   "source": [
    "df_1 = df[df['categories_version'] == 1] .copy()\n",
    "df_1.to_csv('categories_version_1.csv')\n",
    "df_2 = df[df['categories_version'] == 2] .copy()\n",
    "df_2.to_csv('categories_version_2.csv')"
   ]
  },
  {
   "cell_type": "code",
   "execution_count": null,
   "metadata": {},
   "outputs": [],
   "source": [
    "df = df_1\n",
    "df.drop(['categories_version'], axis=1, inplace=True)\n",
    "\n",
    "\n",
    "count = 0\n",
    "accept_percent = 0.5\n",
    "for key in key_list:\n",
    "    i = df[key].isin([0]).sum()\n",
    "    if i >= len(df.index) * accept_percent:\n",
    "        print(f'{key} : {i}')\n",
    "        df.drop(key, axis=1, inplace=True)\n",
    "        count +=1\n",
    "print(count)"
   ]
  },
  {
   "cell_type": "code",
   "execution_count": null,
   "metadata": {},
   "outputs": [],
   "source": [
    "df"
   ]
  },
  {
   "cell_type": "code",
   "execution_count": null,
   "metadata": {},
   "outputs": [],
   "source": [
    "df.corr()"
   ]
  },
  {
   "cell_type": "code",
   "execution_count": null,
   "metadata": {},
   "outputs": [],
   "source": [
    "import seaborn as sns\n",
    "import matplotlib.pyplot as plt\n",
    "\n",
    "plt.figure(figsize=(50, 50))\n",
    "heatmap = sns.heatmap(df.corr(), vmin=0, vmax=1, annot=True, xticklabels=True, yticklabels=True)\n",
    "heatmap.set_title('Correlation Heatmap', fontdict={'fontsize':18}, pad=25);"
   ]
  },
  {
   "cell_type": "code",
   "execution_count": null,
   "metadata": {
    "scrolled": true
   },
   "outputs": [],
   "source": []
  },
  {
   "cell_type": "code",
   "execution_count": null,
   "metadata": {},
   "outputs": [],
   "source": []
  },
  {
   "cell_type": "code",
   "execution_count": null,
   "metadata": {},
   "outputs": [],
   "source": []
  },
  {
   "cell_type": "code",
   "execution_count": null,
   "metadata": {},
   "outputs": [],
   "source": []
  },
  {
   "cell_type": "code",
   "execution_count": null,
   "metadata": {},
   "outputs": [],
   "source": []
  },
  {
   "cell_type": "code",
   "execution_count": null,
   "metadata": {},
   "outputs": [],
   "source": []
  },
  {
   "cell_type": "code",
   "execution_count": null,
   "metadata": {},
   "outputs": [],
   "source": []
  },
  {
   "cell_type": "code",
   "execution_count": null,
   "metadata": {},
   "outputs": [],
   "source": []
  },
  {
   "cell_type": "code",
   "execution_count": null,
   "metadata": {},
   "outputs": [],
   "source": [
    "\n"
   ]
  },
  {
   "cell_type": "code",
   "execution_count": null,
   "metadata": {},
   "outputs": [],
   "source": []
  },
  {
   "cell_type": "code",
   "execution_count": null,
   "metadata": {},
   "outputs": [],
   "source": []
  }
 ],
 "metadata": {
  "kernelspec": {
   "display_name": "Python 3",
   "language": "python",
   "name": "python3"
  },
  "language_info": {
   "codemirror_mode": {
    "name": "ipython",
    "version": 3
   },
   "file_extension": ".py",
   "mimetype": "text/x-python",
   "name": "python",
   "nbconvert_exporter": "python",
   "pygments_lexer": "ipython3",
   "version": "3.9.2"
  }
 },
 "nbformat": 4,
 "nbformat_minor": 1
}
