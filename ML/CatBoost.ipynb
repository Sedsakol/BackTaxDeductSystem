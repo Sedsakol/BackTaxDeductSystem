{
 "cells": [
  {
   "cell_type": "code",
   "execution_count": 2,
   "metadata": {},
   "outputs": [
    {
     "name": "stderr",
     "output_type": "stream",
     "text": [
      "c:\\users\\posez\\appdata\\local\\programs\\python\\python39\\lib\\site-packages\\IPython\\nbformat.py:12: ShimWarning: The `IPython.nbformat` package has been deprecated since IPython 4.0. You should import from nbformat instead.\n",
      "  warn(\"The `IPython.nbformat` package has been deprecated since IPython 4.0. \"\n",
      "c:\\users\\posez\\appdata\\local\\programs\\python\\python39\\lib\\site-packages\\nbformat\\current.py:15: UserWarning: nbformat.current is deprecated.\n",
      "\n",
      "- use nbformat for read/write/validate public API\n",
      "- use nbformat.vX directly to composing notebooks of a particular version\n",
      "\n",
      "  warnings.warn(\"\"\"nbformat.current is deprecated.\n"
     ]
    },
    {
     "name": "stdout",
     "output_type": "stream",
     "text": [
      "wrote ML_removed.ipynb\n"
     ]
    }
   ],
   "source": [
    "\"\"\"\n",
    "Usage: python remove_output.py notebook.ipynb [ > without_output.ipynb ]\n",
    "Modified from remove_output by Minrk\n",
    "\"\"\"\n",
    "import sys\n",
    "import io\n",
    "import os\n",
    "from IPython.nbformat.current import read, write\n",
    "\n",
    "\n",
    "def remove_outputs(nb):\n",
    "    \"\"\"remove the outputs from a notebook\"\"\"\n",
    "    for ws in nb.worksheets:\n",
    "        for cell in ws.cells:\n",
    "            if cell.cell_type == 'code':\n",
    "                cell.outputs = []\n",
    "\n",
    "if __name__ == '__main__':\n",
    "    fname = 'ML.ipynb'\n",
    "    with io.open(fname, 'r') as f:\n",
    "        nb = read(f, 'json')\n",
    "    remove_outputs(nb)\n",
    "    base, ext = os.path.splitext(fname)\n",
    "    new_ipynb = \"%s_removed%s\" % (base, ext)\n",
    "    with io.open(new_ipynb, 'w', encoding='utf8') as f:\n",
    "        write(nb, f, 'json')\n",
    "    print (\"wrote %s\" % new_ipynb)"
   ]
  },
  {
   "cell_type": "code",
   "execution_count": null,
   "metadata": {},
   "outputs": [],
   "source": []
  }
 ],
 "metadata": {
  "kernelspec": {
   "display_name": "Python 3",
   "language": "python",
   "name": "python3"
  },
  "language_info": {
   "codemirror_mode": {
    "name": "ipython",
    "version": 3
   },
   "file_extension": ".py",
   "mimetype": "text/x-python",
   "name": "python",
   "nbconvert_exporter": "python",
   "pygments_lexer": "ipython3",
   "version": "3.9.0"
  }
 },
 "nbformat": 4,
 "nbformat_minor": 4
}
