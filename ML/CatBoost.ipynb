{
 "cells": [
  {
   "cell_type": "code",
   "execution_count": null,
   "metadata": {},
   "outputs": [],
   "source": [
    "import pandas as pd"
   ]
  },
  {
   "cell_type": "code",
   "execution_count": null,
   "metadata": {},
   "outputs": [],
   "source": [
    "df = pd.read_csv (r'./categories_version_1.csv')\n",
    "\n",
    "df.drop(['Unnamed: 0'], axis=1, inplace=True)\n",
    "\n",
    "if 'categories_version' in list(df.columns):\n",
    "    df.drop(['categories_version'], axis=1, inplace=True)\n",
    "\n",
    "    key_list = ['Art', 'Band', 'Chef', 'Mood', 'Show', 'Actor', 'Brand', 'Cause', 'Color', 'Event', 'Gamer', 'Legal', 'Music', 'Topic', 'Artist', 'Author', 'Course', 'Dancer', 'Editor', 'Sports', 'Writer', 'Athlete', 'Blogger', 'Cuisine', 'Finance', 'Profile', 'Science', 'Comedian', 'Designer', 'Diseases', 'Election', 'Fan Page', 'Language', 'Locality', 'Musician', 'Producer', 'Community', 'Education', 'Orchestra', 'Residence', 'Scientist', 'Surgeries', 'Journalist', 'Agriculture', 'Labor Union', 'Nationality', 'Real Estate', 'Social Club', 'Sports Club', 'TV & Movies', 'Visual Arts', 'Work Status', 'Armed Forces', 'Concert Tour', 'Entrepreneur', 'Just For Fun', 'Meeting Room', 'Talent Agent', 'Ticket Sales', 'Work Project', 'Fashion Model', 'Film Director', 'Fitness Model', 'Literary Arts', 'Local Service', 'Musician/Band', 'Public Toilet', 'Satire/Parody', 'Sports Season', 'Video Creator', 'Work Position', 'Not a Business', 'Campus Building', 'Digital Creator', 'Food & Beverage', 'Harmonized Page', 'Hotel & Lodging', 'Performance Art', 'Performing Arts', 'Sports Promoter', 'Theatrical Play', 'Exchange Program', 'Medical & Health', 'News Personality', 'Spiritual Leader', 'Books & Magazines', 'Community Service', 'Editorial/Opinion', 'Shopping & Retail', 'University (NCES)', 'University Status', 'Media/News Company', 'Outdoor Recreation', 'Youth Organization', 'City Infrastructure', 'Sports & Recreation', 'Arts & Entertainment', 'Charity Organization', 'Motivational Speaker', 'Private Members Club', 'Advertising/Marketing', 'Sorority & Fraternity', 'Nonprofit Organization', 'Religious Organization', 'Theatrical Productions', 'Commercial & Industrial', 'Travel & Transportation', 'Country Club / Clubhouse', 'Media Restoration Service', 'Religious Place of Worship', 'Automotive, Aircraft & Boat', 'Landmark & Historical Place', 'Public & Government Service', 'Automated Teller Machine (ATM)', 'Beauty, Cosmetic & Personal Care', 'Science, Technology & Engineering', 'Non-Governmental Organization (NGO)', 'Environmental Conservation Organization']\n",
    "\n",
    "    count = 0\n",
    "    accept_percent = 0.5\n",
    "    for key in key_list:\n",
    "        i = df[key].isin([0]).sum()\n",
    "        if i >= len(df.index) * accept_percent:\n",
    "            print(f'{key} : {i}')\n",
    "            df.drop(key, axis=1, inplace=True)\n",
    "            count +=1\n",
    "    print(count)"
   ]
  },
  {
   "cell_type": "code",
   "execution_count": null,
   "metadata": {},
   "outputs": [],
   "source": [
    "df"
   ]
  },
  {
   "cell_type": "code",
   "execution_count": null,
   "metadata": {},
   "outputs": [],
   "source": [
    "df.corr()"
   ]
  },
  {
   "cell_type": "code",
   "execution_count": null,
   "metadata": {},
   "outputs": [],
   "source": [
    "import seaborn as sns\n",
    "import matplotlib.pyplot as plt\n",
    "\n",
    "plt.figure(figsize=(50, 50))\n",
    "heatmap = sns.heatmap(df.corr(), vmin=0, vmax=1, annot=True, xticklabels=True, yticklabels=True)\n",
    "heatmap.set_title('Correlation Heatmap', fontdict={'fontsize':18}, pad=25);"
   ]
  },
  {
   "cell_type": "code",
   "execution_count": null,
   "metadata": {},
   "outputs": [],
   "source": [
    "from catboost import CatBoostClassifier, Pool\n",
    "from sklearn.model_selection import train_test_split\n",
    "from sklearn.metrics import classification_report,confusion_matrix,accuracy_score\n",
    "import numpy as np"
   ]
  },
  {
   "cell_type": "code",
   "execution_count": null,
   "metadata": {},
   "outputs": [],
   "source": [
    "class AccuracyMetric(object):\n",
    "    def get_final_error(self, error, weight):\n",
    "        return error / (weight + 1e-38)\n",
    "\n",
    "    def is_max_optimal(self):\n",
    "        return True\n",
    "\n",
    "    def evaluate(self, approxes, target, weight):\n",
    "        best_class = np.argmax(approxes, axis=0)\n",
    "        \n",
    "        accuracy_sum = 0\n",
    "        weight_sum = 0 \n",
    "\n",
    "        for i in range(len(target)):\n",
    "            w = 1.0 if weight is None else weight[i]\n",
    "            weight_sum += w\n",
    "            accuracy_sum += w * (best_class[i] == target[i])\n",
    "\n",
    "        return accuracy_sum, weight_sum"
   ]
  },
  {
   "cell_type": "code",
   "execution_count": null,
   "metadata": {},
   "outputs": [],
   "source": [
    "# feature matrix\n",
    "X = df.drop(['ans_type'], axis=1, inplace=False)\n",
    "\n",
    "# target vector\n",
    "y = df['ans_type'] - 1\n",
    "\n",
    "# class labels\n",
    "labels = []\n",
    "for i in df.drop(['ans_type'], axis=1, inplace=False).columns:\n",
    "    labels.append(i)\n",
    "\n",
    "random_state = 3\n",
    "#brute force\n",
    "list_pass = []\n",
    "for random_state in range(1,101):\n",
    "    # Split dataset into training set and test set\n",
    "    X_train, X_test, y_train, y_test = train_test_split(X, y, test_size=0.3, random_state=random_state, stratify=y) # 70% training and 30% test\n",
    "    \n",
    "    pool_train = Pool(X_train, y_train, feature_names=list(X_train.columns))\n",
    "    pool_test = Pool(X_test, y_test, feature_names=list(X_test.columns))\n",
    "\n",
    "    model = CatBoostClassifier(max_depth=15, max_ctr_complexity=15, iterations=1, loss_function='MultiClass', eval_metric=AccuracyMetric(), learning_rate=0.03, random_state=random_state)\n",
    "    model.fit(pool_train, use_best_model=True, eval_set=pool_test)\n",
    "\n",
    "    accuracy = max(model.evals_result_.get('validation').get('AccuracyMetric'))\n",
    "    if accuracy>=0.7:\n",
    "        print(f'random_state : {random_state}  accuracy : {accuracy*100}%%')\n",
    "        list_pass.append((random_state,accuracy))\n"
   ]
  },
  {
   "cell_type": "code",
   "execution_count": null,
   "metadata": {},
   "outputs": [],
   "source": [
    "print(list_pass)"
   ]
  },
  {
   "cell_type": "code",
   "execution_count": null,
   "metadata": {},
   "outputs": [],
   "source": [
    "# feature matrix\n",
    "X = df.drop(['ans_type'], axis=1, inplace=False)\n",
    "\n",
    "# target vector\n",
    "y = df['ans_type'] - 1\n",
    "\n",
    "# class labels\n",
    "labels = []\n",
    "for i in df.drop(['ans_type'], axis=1, inplace=False).columns:\n",
    "    labels.append(i)\n",
    "\n",
    "random_state = max(list_pass, key=lambda item:item[1])[0]\n",
    "# Split dataset into training set and test set\n",
    "X_train, X_test, y_train, y_test = train_test_split(X, y, test_size=0.3, random_state=random_state, stratify=y) # 70% training and 30% test"
   ]
  },
  {
   "cell_type": "code",
   "execution_count": null,
   "metadata": {
    "scrolled": true
   },
   "outputs": [],
   "source": [
    "pool_train = Pool(X_train, y_train, feature_names=list(X_train.columns))\n",
    "pool_test = Pool(X_test, y_test, feature_names=list(X_test.columns))\n",
    "\n",
    "model = CatBoostClassifier(max_depth=15, max_ctr_complexity=15, iterations=1, loss_function='MultiClass', eval_metric=AccuracyMetric(), learning_rate=0.03, random_state=random_state)\n",
    "model.fit(pool_train, use_best_model=True, eval_set=pool_test)\n",
    "\n",
    "print(\"Count of trees in model = {}\".format(model.tree_count_))"
   ]
  },
  {
   "cell_type": "code",
   "execution_count": null,
   "metadata": {},
   "outputs": [],
   "source": [
    "model.plot_tree(tree_idx=0, pool=pool_train)"
   ]
  },
  {
   "cell_type": "code",
   "execution_count": null,
   "metadata": {},
   "outputs": [],
   "source": [
    "max(model.evals_result_.get('validation').get('AccuracyMetric'))"
   ]
  },
  {
   "cell_type": "code",
   "execution_count": null,
   "metadata": {},
   "outputs": [],
   "source": [
    "model.evals_result_.get('validation')"
   ]
  },
  {
   "cell_type": "code",
   "execution_count": null,
   "metadata": {},
   "outputs": [],
   "source": [
    "y_pred = model.predict(pool_test)\n",
    "print(classification_report(y_test,y_pred))"
   ]
  },
  {
   "cell_type": "code",
   "execution_count": null,
   "metadata": {},
   "outputs": [],
   "source": [
    "from graphviz import Source\n",
    "\n",
    "graph = model.plot_tree(tree_idx=0, pool=pool_train)\n",
    "png = Source(graph, format=\"png\") \n",
    "png\n",
    "png.render(\"decision_tree_graphivz_cat\")"
   ]
  },
  {
   "cell_type": "code",
   "execution_count": null,
   "metadata": {},
   "outputs": [],
   "source": []
  }
 ],
 "metadata": {
  "kernelspec": {
   "display_name": "Python 3",
   "language": "python",
   "name": "python3"
  },
  "language_info": {
   "codemirror_mode": {
    "name": "ipython",
    "version": 3
   },
   "file_extension": ".py",
   "mimetype": "text/x-python",
   "name": "python",
   "nbconvert_exporter": "python",
   "pygments_lexer": "ipython3",
   "version": "3.9.2"
  }
 },
 "nbformat": 4,
 "nbformat_minor": 4
}
