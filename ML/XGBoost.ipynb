{
 "cells": [
  {
   "cell_type": "code",
   "execution_count": null,
   "metadata": {},
   "outputs": [],
   "source": [
    "import pandas as pd"
   ]
  },
  {
   "cell_type": "code",
   "execution_count": null,
   "metadata": {},
   "outputs": [],
   "source": [
    "df = pd.read_csv (r'./categories_version_1.csv')\n",
    "df.drop(['categories_version'], axis=1, inplace=True)\n",
    "\n",
    "key_list = ['Art', 'Band', 'Chef', 'Mood', 'Show', 'Actor', 'Brand', 'Cause', 'Color', 'Event', 'Gamer', 'Legal', 'Music', 'Topic', 'Artist', 'Author', 'Course', 'Dancer', 'Editor', 'Sports', 'Writer', 'Athlete', 'Blogger', 'Cuisine', 'Finance', 'Profile', 'Science', 'Comedian', 'Designer', 'Diseases', 'Election', 'Fan Page', 'Language', 'Locality', 'Musician', 'Producer', 'Community', 'Education', 'Orchestra', 'Residence', 'Scientist', 'Surgeries', 'Journalist', 'Agriculture', 'Labor Union', 'Nationality', 'Real Estate', 'Social Club', 'Sports Club', 'TV & Movies', 'Visual Arts', 'Work Status', 'Armed Forces', 'Concert Tour', 'Entrepreneur', 'Just For Fun', 'Meeting Room', 'Talent Agent', 'Ticket Sales', 'Work Project', 'Fashion Model', 'Film Director', 'Fitness Model', 'Literary Arts', 'Local Service', 'Musician/Band', 'Public Toilet', 'Satire/Parody', 'Sports Season', 'Video Creator', 'Work Position', 'Not a Business', 'Campus Building', 'Digital Creator', 'Food & Beverage', 'Harmonized Page', 'Hotel & Lodging', 'Performance Art', 'Performing Arts', 'Sports Promoter', 'Theatrical Play', 'Exchange Program', 'Medical & Health', 'News Personality', 'Spiritual Leader', 'Books & Magazines', 'Community Service', 'Editorial/Opinion', 'Shopping & Retail', 'University (NCES)', 'University Status', 'Media/News Company', 'Outdoor Recreation', 'Youth Organization', 'City Infrastructure', 'Sports & Recreation', 'Arts & Entertainment', 'Charity Organization', 'Motivational Speaker', 'Private Members Club', 'Advertising/Marketing', 'Sorority & Fraternity', 'Nonprofit Organization', 'Religious Organization', 'Theatrical Productions', 'Commercial & Industrial', 'Travel & Transportation', 'Country Club / Clubhouse', 'Media Restoration Service', 'Religious Place of Worship', 'Automotive, Aircraft & Boat', 'Landmark & Historical Place', 'Public & Government Service', 'Automated Teller Machine (ATM)', 'Beauty, Cosmetic & Personal Care', 'Science, Technology & Engineering', 'Non-Governmental Organization (NGO)', 'Environmental Conservation Organization']\n",
    "\n",
    "count = 0\n",
    "accept_percent = 0.5\n",
    "for key in key_list:\n",
    "    i = df[key].isin([0]).sum()\n",
    "    if i >= len(df.index) * accept_percent:\n",
    "        print(f'{key} : {i}')\n",
    "        df.drop(key, axis=1, inplace=True)\n",
    "        count +=1\n",
    "print(count)"
   ]
  },
  {
   "cell_type": "code",
   "execution_count": null,
   "metadata": {},
   "outputs": [],
   "source": [
    "df"
   ]
  },
  {
   "cell_type": "code",
   "execution_count": null,
   "metadata": {},
   "outputs": [],
   "source": [
    "df.corr()"
   ]
  },
  {
   "cell_type": "code",
   "execution_count": null,
   "metadata": {},
   "outputs": [],
   "source": [
    "import seaborn as sns\n",
    "import matplotlib.pyplot as plt\n",
    "\n",
    "plt.figure(figsize=(50, 50))\n",
    "heatmap = sns.heatmap(df.corr(), vmin=0, vmax=1, annot=True, xticklabels=True, yticklabels=True)\n",
    "heatmap.set_title('Correlation Heatmap', fontdict={'fontsize':18}, pad=25);"
   ]
  },
  {
   "cell_type": "code",
   "execution_count": null,
   "metadata": {},
   "outputs": [],
   "source": [
    "from xgboost import XGBClassifier, plot_tree\n",
    "from sklearn.model_selection import train_test_split\n",
    "from sklearn.metrics import classification_report,confusion_matrix,accuracy_score\n",
    "from matplotlib.pylab import rcParams\n"
   ]
  },
  {
   "cell_type": "code",
   "execution_count": null,
   "metadata": {},
   "outputs": [],
   "source": [
    "# feature matrix\n",
    "X = df.drop(['ans_type', 'Unnamed: 0'], axis=1, inplace=False)\n",
    "\n",
    "# target vector\n",
    "y = df['ans_type'] - 1\n",
    "\n",
    "# class labels\n",
    "labels = []\n",
    "for i in df.drop(['ans_type'], axis=1, inplace=False).columns:\n",
    "    labels.append(i)\n",
    "    \n",
    "random_state = 3\n",
    "#brute force\n",
    "list_pass = []\n",
    "for random_state in range(1,101):\n",
    "    # Split dataset into training set and test set\n",
    "    X_train, X_test, y_train, y_test = train_test_split(X, y, test_size=0.3, random_state=random_state) # 70% training and 30% test\n",
    "\n",
    "    model = XGBClassifier( random_state=random_state)\n",
    "    model.fit(X_train, y_train)\n",
    "\n",
    "    # make predictions for test data\n",
    "    y_pred = model.predict(X_test)\n",
    "    #predictions = [round(value) for value in y_pred]\n",
    "    # evaluate predictions\n",
    "    accuracy = accuracy_score(y_test, y_pred)\n",
    "    if accuracy>=0.7:\n",
    "        print(f'random_state : {random_state}  accuracy : {accuracy*100}%%')\n",
    "        list_pass.append((random_state,accuracy))\n"
   ]
  },
  {
   "cell_type": "code",
   "execution_count": null,
   "metadata": {},
   "outputs": [],
   "source": [
    "print(list_pass)"
   ]
  },
  {
   "cell_type": "code",
   "execution_count": null,
   "metadata": {},
   "outputs": [],
   "source": [
    "# feature matrix\n",
    "X = df.drop(['ans_type', 'Unnamed: 0'], axis=1, inplace=False)\n",
    "\n",
    "# target vector\n",
    "y = df['ans_type'] - 1\n",
    "\n",
    "# class labels\n",
    "labels = []\n",
    "for i in df.drop(['ans_type'], axis=1, inplace=False).columns:\n",
    "    labels.append(i)\n",
    "    \n",
    "random_state = max(list_pass, key=lambda item:item[1])[0]\n",
    "# Split dataset into training set and test set\n",
    "X_train, X_test, y_train, y_test = train_test_split(X, y, test_size=0.3, random_state=random_state) # 70% training and 30% test\n"
   ]
  },
  {
   "cell_type": "code",
   "execution_count": null,
   "metadata": {},
   "outputs": [],
   "source": [
    "model = XGBClassifier( random_state=random_state)\n",
    "model.fit(X_train, y_train)\n"
   ]
  },
  {
   "cell_type": "code",
   "execution_count": null,
   "metadata": {},
   "outputs": [],
   "source": [
    "# make predictions for test data\n",
    "y_pred = model.predict(X_test)\n",
    "\n",
    "print(classification_report(y_test,y_pred))\n",
    "#predictions = [round(value) for value in y_pred]\n",
    "# evaluate predictions\n",
    "accuracy = accuracy_score(y_test, y_pred)\n",
    "print(\"Accuracy: %.2f%%\" % (accuracy * 100.0))"
   ]
  },
  {
   "cell_type": "code",
   "execution_count": null,
   "metadata": {},
   "outputs": [],
   "source": [
    "# plot single tree\n",
    "rcParams['figure.figsize'] = 80,50\n",
    "plot_tree(model)\n",
    "plt.show()"
   ]
  },
  {
   "cell_type": "code",
   "execution_count": null,
   "metadata": {},
   "outputs": [],
   "source": []
  },
  {
   "cell_type": "code",
   "execution_count": null,
   "metadata": {},
   "outputs": [],
   "source": []
  }
 ],
 "metadata": {
  "kernelspec": {
   "display_name": "Python 3",
   "language": "python",
   "name": "python3"
  },
  "language_info": {
   "codemirror_mode": {
    "name": "ipython",
    "version": 3
   },
   "file_extension": ".py",
   "mimetype": "text/x-python",
   "name": "python",
   "nbconvert_exporter": "python",
   "pygments_lexer": "ipython3",
   "version": "3.9.2"
  }
 },
 "nbformat": 4,
 "nbformat_minor": 4
}
