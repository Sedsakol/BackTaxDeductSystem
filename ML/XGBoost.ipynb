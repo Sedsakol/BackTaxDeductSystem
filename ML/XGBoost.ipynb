{
 "cells": [
  {
   "cell_type": "code",
   "execution_count": null,
   "metadata": {},
   "outputs": [],
   "source": [
    "import pandas"
   ]
  },
  {
   "cell_type": "code",
   "execution_count": null,
   "metadata": {},
   "outputs": [],
   "source": [
    "df = pd.read_csv (r'./categories_version_1.csv')\n",
    "df.drop(['categories_version'], axis=1, inplace=True)\n",
    "\n",
    "key_list = ['Art', 'Band', 'Chef', 'Mood', 'Show', 'Actor', 'Brand', 'Cause', 'Color', 'Event', 'Gamer', 'Legal', 'Music', 'Topic', 'Artist', 'Author', 'Course', 'Dancer', 'Editor', 'Sports', 'Writer', 'Athlete', 'Blogger', 'Cuisine', 'Finance', 'Profile', 'Science', 'Comedian', 'Designer', 'Diseases', 'Election', 'Fan Page', 'Language', 'Locality', 'Musician', 'Producer', 'Community', 'Education', 'Orchestra', 'Residence', 'Scientist', 'Surgeries', 'Journalist', 'Agriculture', 'Labor Union', 'Nationality', 'Real Estate', 'Social Club', 'Sports Club', 'TV & Movies', 'Visual Arts', 'Work Status', 'Armed Forces', 'Concert Tour', 'Entrepreneur', 'Just For Fun', 'Meeting Room', 'Talent Agent', 'Ticket Sales', 'Work Project', 'Fashion Model', 'Film Director', 'Fitness Model', 'Literary Arts', 'Local Service', 'Musician/Band', 'Public Toilet', 'Satire/Parody', 'Sports Season', 'Video Creator', 'Work Position', 'Not a Business', 'Campus Building', 'Digital Creator', 'Food & Beverage', 'Harmonized Page', 'Hotel & Lodging', 'Performance Art', 'Performing Arts', 'Sports Promoter', 'Theatrical Play', 'Exchange Program', 'Medical & Health', 'News Personality', 'Spiritual Leader', 'Books & Magazines', 'Community Service', 'Editorial/Opinion', 'Shopping & Retail', 'University (NCES)', 'University Status', 'Media/News Company', 'Outdoor Recreation', 'Youth Organization', 'City Infrastructure', 'Sports & Recreation', 'Arts & Entertainment', 'Charity Organization', 'Motivational Speaker', 'Private Members Club', 'Advertising/Marketing', 'Sorority & Fraternity', 'Nonprofit Organization', 'Religious Organization', 'Theatrical Productions', 'Commercial & Industrial', 'Travel & Transportation', 'Country Club / Clubhouse', 'Media Restoration Service', 'Religious Place of Worship', 'Automotive, Aircraft & Boat', 'Landmark & Historical Place', 'Public & Government Service', 'Automated Teller Machine (ATM)', 'Beauty, Cosmetic & Personal Care', 'Science, Technology & Engineering', 'Non-Governmental Organization (NGO)', 'Environmental Conservation Organization']\n",
    "\n",
    "count = 0\n",
    "accept_percent = 0.5\n",
    "for key in key_list:\n",
    "    i = df[key].isin([0]).sum()\n",
    "    if i >= len(df.index) * accept_percent:\n",
    "        print(f'{key} : {i}')\n",
    "        df.drop(key, axis=1, inplace=True)\n",
    "        count +=1\n",
    "print(count)"
   ]
  },
  {
   "cell_type": "code",
   "execution_count": null,
   "metadata": {},
   "outputs": [],
   "source": [
    "df"
   ]
  },
  {
   "cell_type": "code",
   "execution_count": null,
   "metadata": {},
   "outputs": [],
   "source": [
    "df.corr()"
   ]
  },
  {
   "cell_type": "code",
   "execution_count": null,
   "metadata": {},
   "outputs": [],
   "source": [
    "import seaborn as sns\n",
    "import matplotlib.pyplot as plt\n",
    "\n",
    "plt.figure(figsize=(50, 50))\n",
    "heatmap = sns.heatmap(df.corr(), vmin=0, vmax=1, annot=True, xticklabels=True, yticklabels=True)\n",
    "heatmap.set_title('Correlation Heatmap', fontdict={'fontsize':18}, pad=25);"
   ]
  },
  {
   "cell_type": "code",
   "execution_count": null,
   "metadata": {},
   "outputs": [],
   "source": [
    "not_normalize_col = [ 'risk_type','categories_version','ans_type']\n",
    "for i in range(1,11):\n",
    "    not_normalize_col.append(f'risk_question_{i}')\n",
    "\n",
    "list_col = []\n",
    "for col in df.columns:\n",
    "    if col not in not_normalize_col :\n",
    "        list_col.append(col)\n",
    "list_col"
   ]
  },
  {
   "cell_type": "code",
   "execution_count": null,
   "metadata": {},
   "outputs": [],
   "source": [
    "len(list_col)"
   ]
  },
  {
   "cell_type": "code",
   "execution_count": null,
   "metadata": {},
   "outputs": [],
   "source": [
    "for col in list_col:\n",
    "    min_value = df[col].min()\n",
    "    max_value = df[col].max()\n",
    "    \n",
    "    df[col] = (df[col] -min_value)/(max_value-min_value)\n",
    "    \n",
    "df"
   ]
  },
  {
   "cell_type": "code",
   "execution_count": null,
   "metadata": {},
   "outputs": [],
   "source": [
    "plt.figure(figsize=(50, 50))\n",
    "heatmap = sns.heatmap(df.corr(), vmin=0, vmax=1, annot=True, xticklabels=True, yticklabels=True)\n",
    "# Give a title to the heatmap. Pad defines the distance of the title from the top of the heatmap.\n",
    "heatmap.set_title('Correlation Heatmap', fontdict={'fontsize':18}, pad=25);\n"
   ]
  },
  {
   "cell_type": "code",
   "execution_count": null,
   "metadata": {},
   "outputs": [],
   "source": [
    "df"
   ]
  },
  {
   "cell_type": "code",
   "execution_count": null,
   "metadata": {},
   "outputs": [],
   "source": [
    "from xgboost import XGBClassifier\n",
    "from xgboost import plot_tree\n",
    "import matplotlib.pyplot as plt"
   ]
  },
  {
   "cell_type": "code",
   "execution_count": null,
   "metadata": {},
   "outputs": [],
   "source": [
    "model = XGBClassifier()\n",
    "model.fit(X, y)\n",
    "# plot single tree\n",
    "plot_tree(model)\n",
    "plt.show()"
   ]
  }
 ],
 "metadata": {
  "kernelspec": {
   "display_name": "Python 3",
   "language": "python",
   "name": "python3"
  },
  "language_info": {
   "codemirror_mode": {
    "name": "ipython",
    "version": 3
   },
   "file_extension": ".py",
   "mimetype": "text/x-python",
   "name": "python",
   "nbconvert_exporter": "python",
   "pygments_lexer": "ipython3",
   "version": "3.9.0"
  }
 },
 "nbformat": 4,
 "nbformat_minor": 4
}
